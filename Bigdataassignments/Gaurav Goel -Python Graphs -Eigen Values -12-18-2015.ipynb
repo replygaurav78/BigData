{
 "cells": [
  {
   "cell_type": "markdown",
   "metadata": {
    "collapsed": true
   },
   "source": [
    "\n",
    "\n",
    "Using the graph from figure 10.1 from the textbook (http://infolab.stanford.edu/~ullman/mmds/book.pdf) to demonstrate\n",
    "\n",
    "<img src=\"images/smallsocialgraph.png\">"
   ]
  },
  {
   "cell_type": "code",
   "execution_count": null,
   "metadata": {
    "collapsed": true
   },
   "outputs": [],
   "source": []
  },
  {
   "cell_type": "code",
   "execution_count": 1,
   "metadata": {
    "collapsed": false
   },
   "outputs": [],
   "source": [
    "#Example Small social newtork as a connection matrix\n",
    "#\n",
    "sc1 = ([(0, 1, 1, 0, 0, 0, 0), \n",
    "        (1, 0, 1, 1, 0, 0, 0),\n",
    "        (1, 1, 0, 0, 0, 0, 0),\n",
    "        (0, 1, 0, 0, 1, 1, 1),\n",
    "        (0, 0, 0, 1, 0, 1, 0),\n",
    "        (0, 0, 0, 1, 1, 0, 1),\n",
    "        (0, 0, 0, 1, 0, 1, 0)])"
   ]
  },
  {
   "cell_type": "markdown",
   "metadata": {
    "collapsed": true
   },
   "source": [
    "http://networkx.github.io/documentation/latest/install.html\n",
    "\n",
    "pip install networkx\n",
    "\n",
    "\n",
    "to install networkx into your python modules\n",
    "\n",
    "pip install networkx  --upgrade \n",
    "\n",
    "to upgrade you previously installed version\n",
    "\n",
    "You may have to restart your ipython engine to pick up the new module\n",
    "Test your installation by running the new box locally\n",
    "\n",
    "A full tutorial is available at:\n",
    "http://networkx.github.io/documentation/latest/tutorial/index.html\n",
    "\n",
    "There are other packages for graph manipulation for python:\n",
    "python-igraph, (http://igraph.org/python/#pydoc1)\n",
    "Graph-tool, (https://graph-tool.skewed.de)\n",
    "\n",
    "I picked networkx because it took little effort to install.\n",
    "\n"
   ]
  },
  {
   "cell_type": "code",
   "execution_count": 5,
   "metadata": {
    "collapsed": false
   },
   "outputs": [],
   "source": [
    "import networkx as nx\n",
    "G1 = nx.Graph()\n"
   ]
  },
  {
   "cell_type": "code",
   "execution_count": 6,
   "metadata": {
    "collapsed": true
   },
   "outputs": [],
   "source": [
    ">>> G=nx.Graph()\n",
    ">>> G.add_edges_from([(1,2),(1,3)])\n",
    ">>> G.add_node(\"spam\")       # adds node \"spam\""
   ]
  },
  {
   "cell_type": "code",
   "execution_count": 8,
   "metadata": {
    "collapsed": false
   },
   "outputs": [
    {
     "data": {
      "text/plain": [
       "['A', 'C', 'B', 'E', 'D', 'G', 'F']"
      ]
     },
     "execution_count": 8,
     "metadata": {},
     "output_type": "execute_result"
    }
   ],
   "source": [
    "G1.add_nodes_from(['A','B','C','D','E','F','G'])\n",
    "G1.nodes()\n"
   ]
  },
  {
   "cell_type": "code",
   "execution_count": 9,
   "metadata": {
    "collapsed": false
   },
   "outputs": [],
   "source": [
    "G1.add_edges_from([('A','B'),('A','C')])\n",
    "G1.add_edges_from([('B','C'),('B','D')])\n",
    "G1.add_edges_from([('D','E'),('D','F'),('D','G')])\n",
    "G1.add_edges_from([('E','F')])\n",
    "G1.add_edges_from([('F','G')])"
   ]
  },
  {
   "cell_type": "code",
   "execution_count": 11,
   "metadata": {
    "collapsed": true
   },
   "outputs": [],
   "source": [
    ">>> G=nx.Graph()\n",
    ">>> G.add_edges_from([(1,2),(1,3)])\n",
    ">>> G.add_node(\"spam\")       # a"
   ]
  },
  {
   "cell_type": "code",
   "execution_count": 12,
   "metadata": {
    "collapsed": false
   },
   "outputs": [],
   "source": [
    ">>> nx.draw(G)"
   ]
  },
  {
   "cell_type": "code",
   "execution_count": 13,
   "metadata": {
    "collapsed": true
   },
   "outputs": [],
   "source": [
    ">>> import matplotlib.pyplot as plt"
   ]
  },
  {
   "cell_type": "code",
   "execution_count": 15,
   "metadata": {
    "collapsed": false
   },
   "outputs": [],
   "source": [
    "nx.draw(G1)"
   ]
  },
  {
   "cell_type": "code",
   "execution_count": 15,
   "metadata": {
    "collapsed": false
   },
   "outputs": [
    {
     "data": {
      "text/plain": [
       "<generator object connected_components at 0x0000000014BCB438>"
      ]
     },
     "execution_count": 15,
     "metadata": {},
     "output_type": "execute_result"
    }
   ],
   "source": [
    "nx.connected_components(G1)"
   ]
  },
  {
   "cell_type": "code",
   "execution_count": 16,
   "metadata": {
    "collapsed": false
   },
   "outputs": [
    {
     "data": {
      "text/plain": [
       "9"
      ]
     },
     "execution_count": 16,
     "metadata": {},
     "output_type": "execute_result"
    }
   ],
   "source": [
    "G1.number_of_edges()"
   ]
  },
  {
   "cell_type": "code",
   "execution_count": 17,
   "metadata": {
    "collapsed": false
   },
   "outputs": [
    {
     "data": {
      "text/plain": [
       "[('A', 'C'),\n",
       " ('A', 'B'),\n",
       " ('C', 'B'),\n",
       " ('B', 'D'),\n",
       " ('E', 'D'),\n",
       " ('E', 'F'),\n",
       " ('D', 'G'),\n",
       " ('D', 'F'),\n",
       " ('G', 'F')]"
      ]
     },
     "execution_count": 17,
     "metadata": {},
     "output_type": "execute_result"
    }
   ],
   "source": [
    "G1.edges()"
   ]
  },
  {
   "cell_type": "code",
   "execution_count": 18,
   "metadata": {
    "collapsed": false
   },
   "outputs": [
    {
     "data": {
      "text/plain": [
       "0.42857142857142855"
      ]
     },
     "execution_count": 18,
     "metadata": {},
     "output_type": "execute_result"
    }
   ],
   "source": [
    "nx.density(G1)"
   ]
  },
  {
   "cell_type": "code",
   "execution_count": 19,
   "metadata": {
    "collapsed": false
   },
   "outputs": [
    {
     "data": {
      "text/plain": [
       "{1: 0, 2: 0, 3: 0, 'spam': 0}"
      ]
     },
     "execution_count": 19,
     "metadata": {},
     "output_type": "execute_result"
    }
   ],
   "source": [
    "nx.triangles(G)"
   ]
  },
  {
   "cell_type": "code",
   "execution_count": 20,
   "metadata": {
    "collapsed": false
   },
   "outputs": [
    {
     "data": {
      "text/plain": [
       "{'A': 1, 'B': 1, 'C': 1, 'D': 2, 'E': 1, 'F': 2, 'G': 1}"
      ]
     },
     "execution_count": 20,
     "metadata": {},
     "output_type": "execute_result"
    }
   ],
   "source": [
    "nx.triangles(G1)"
   ]
  },
  {
   "cell_type": "code",
   "execution_count": 22,
   "metadata": {
    "collapsed": false
   },
   "outputs": [
    {
     "data": {
      "text/plain": [
       "{'A': {'B': 2, 'C': 2, 'D': 1, 'E': 1, 'F': 1, 'G': 1},\n",
       " 'B': {'A': 2, 'C': 2, 'D': 1, 'E': 1, 'F': 1, 'G': 1},\n",
       " 'C': {'A': 2, 'B': 2, 'D': 1, 'E': 1, 'F': 1, 'G': 1},\n",
       " 'D': {'A': 1, 'B': 1, 'C': 1, 'E': 2, 'F': 3, 'G': 2},\n",
       " 'E': {'A': 1, 'B': 1, 'C': 1, 'D': 2, 'F': 2, 'G': 2},\n",
       " 'F': {'A': 1, 'B': 1, 'C': 1, 'D': 3, 'E': 2, 'G': 2},\n",
       " 'G': {'A': 1, 'B': 1, 'C': 1, 'D': 2, 'E': 2, 'F': 2}}"
      ]
     },
     "execution_count": 22,
     "metadata": {},
     "output_type": "execute_result"
    }
   ],
   "source": [
    "nx.all_pairs_node_connectivity(G1)"
   ]
  },
  {
   "cell_type": "code",
   "execution_count": 23,
   "metadata": {
    "collapsed": false
   },
   "outputs": [
    {
     "data": {
      "text/plain": [
       "['B', 'E', 'G', 'F']"
      ]
     },
     "execution_count": 23,
     "metadata": {},
     "output_type": "execute_result"
    }
   ],
   "source": [
    "G1.neighbors('D')"
   ]
  },
  {
   "cell_type": "code",
   "execution_count": 24,
   "metadata": {
    "collapsed": true
   },
   "outputs": [],
   "source": [
    "import matplotlib.pyplot as plt\n",
    "#drawing the graph\n",
    "%matplotlib inline  \n"
   ]
  },
  {
   "cell_type": "code",
   "execution_count": 25,
   "metadata": {
    "collapsed": false
   },
   "outputs": [
    {
     "data": {
      "image/png": "[encoded data removed]",
      "text/plain": [
       "<matplotlib.figure.Figure at 0x1485d2e8>"
      ]
     },
     "metadata": {},
     "output_type": "display_data"
    }
   ],
   "source": [
    "nx.draw(G1)"
   ]
  },
  {
   "cell_type": "code",
   "execution_count": 32,
   "metadata": {
    "collapsed": false
   },
   "outputs": [
    {
     "data": {
      "text/plain": [
       "{'A': <matplotlib.text.Text at 0xe7d20b8>,\n",
       " 'B': <matplotlib.text.Text at 0xe7d2e80>,\n",
       " 'C': <matplotlib.text.Text at 0xe7d2588>,\n",
       " 'D': <matplotlib.text.Text at 0xe4e92b0>,\n",
       " 'E': <matplotlib.text.Text at 0xe4e9128>,\n",
       " 'F': <matplotlib.text.Text at 0xe7c6f98>,\n",
       " 'G': <matplotlib.text.Text at 0xe4e9278>}"
      ]
     },
     "execution_count": 32,
     "metadata": {},
     "output_type": "execute_result"
    },
    {
     "data": {
      "image/png": "[encoded data removed]",
      "text/plain": [
       "<matplotlib.figure.Figure at 0xed0b470>"
      ]
     },
     "metadata": {},
     "output_type": "display_data"
    }
   ],
   "source": [
    "pos=nx.spring_layout(G1)\n",
    "nx.draw(G1,pos,node_color='y', edge_color='r', node_size=600, width=3.0)\n",
    "nx.draw_networkx_labels(G1,pos,color='W',font_size=20,font_family='sans-serif')\n",
    "#https://networkx.github.io/documentation/latest/reference/generated/networkx.drawing.nx_pylab.draw_networkx.html\n",
    "#Some parameters to play with"
   ]
  },
  {
   "cell_type": "code",
   "execution_count": 20,
   "metadata": {
    "collapsed": false
   },
   "outputs": [
    {
     "data": {
      "text/plain": [
       "{1: <matplotlib.text.Text at 0x14be1828>,\n",
       " 2: <matplotlib.text.Text at 0x14be1c18>,\n",
       " 3: <matplotlib.text.Text at 0x14be1278>,\n",
       " 'spam': <matplotlib.text.Text at 0x14d97d30>}"
      ]
     },
     "execution_count": 20,
     "metadata": {},
     "output_type": "execute_result"
    },
    {
     "data": {
      "image/png": "[encoded data removed]",
      "text/plain": [
       "<matplotlib.figure.Figure at 0x14b65f28>"
      ]
     },
     "metadata": {},
     "output_type": "display_data"
    }
   ],
   "source": [
    "pos=nx.spring_layout(G)\n",
    "nx.draw(G,pos,node_color='y', edge_color='r', node_size=600, width=3.0)\n",
    "nx.draw_networkx_labels(G,pos,color='W',font_size=20,font_family='sans-serif')\n",
    "#https://networkx.github.io/documentation/latest/reference/generated/networkx.drawing.nx_pylab.draw_networkx.html\n",
    "#Some parameters to play with"
   ]
  },
  {
   "cell_type": "code",
   "execution_count": 23,
   "metadata": {
    "collapsed": false,
    "scrolled": true
   },
   "outputs": [
    {
     "data": {
      "text/plain": [
       "{1: <matplotlib.text.Text at 0x1573a550>,\n",
       " 2: <matplotlib.text.Text at 0x1573a588>,\n",
       " 3: <matplotlib.text.Text at 0x1573a978>,\n",
       " 'spam': <matplotlib.text.Text at 0x1573ad30>}"
      ]
     },
     "execution_count": 23,
     "metadata": {},
     "output_type": "execute_result"
    },
    {
     "data": {
      "image/png": "[encoded data removed]",
      "text/plain": [
       "<matplotlib.figure.Figure at 0x15238438>"
      ]
     },
     "metadata": {},
     "output_type": "display_data"
    }
   ],
   "source": [
    "pos=nx.spectral_layout(G)\n",
    "nx.draw(G,pos,node_color='y', edge_color='r', node_size=600, width=3.0)\n",
    "nx.draw_networkx_labels(G,pos,color='W',font_size=20,font_family='sans-serif')\n",
    "#https://networkx.github.io/documentation/latest/reference/generated/networkx.drawing.nx_pylab.draw_networkx.html\n",
    "#Some parameters to play with"
   ]
  },
  {
   "cell_type": "markdown",
   "metadata": {},
   "source": [
    "Let's play with some algorithms in class:\n",
    "https://networkx.github.io/documentation/latest/reference/algorithms.html\n",
    "\n",
    "Social Graph analysis algorithms\n",
    "\n",
    "Betweenness:\n",
    "https://networkx.github.io/documentation/latest/reference/algorithms.centrality.html#betweenness\n",
    "\n",
    "EigenVector centrality\n",
    "https://networkx.github.io/documentation/latest/reference/algorithms.centrality.html#eigenvector\n",
    "\n",
    "\n",
    "Clustering per node\n",
    "https://networkx.github.io/documentation/latest/reference/generated/networkx.algorithms.cluster.clustering.html\n",
    "\n",
    "All Shortest Paths\n",
    "https://networkx.github.io/documentation/latest/reference/generated/networkx.algorithms.shortest_paths.generic.all_shortest_paths.html\n",
    "\n",
    "Laplacian matrix\n",
    "https://networkx.github.io/documentation/latest/reference/generated/networkx.linalg.laplacianmatrix.laplacian_matrix.html#networkx.linalg.laplacianmatrix.laplacian_matrix\n",
    "\n",
    "\n",
    "\n",
    "Each of the students pair up and work on demonstrating a networkx algorithm\n",
    "Create a new ipython page and submit it"
   ]
  },
  {
   "cell_type": "code",
   "execution_count": null,
   "metadata": {
    "collapsed": true
   },
   "outputs": [],
   "source": []
  },
  {
   "cell_type": "code",
   "execution_count": null,
   "metadata": {
    "collapsed": true
   },
   "outputs": [],
   "source": [
    "Definition EEM Eigenvalues and Eigenvectors of a Matrix Suppose that A is a square matrix of size n, x≠0 is a vector in Cn, \n",
    "and λ is a scalar in C. Then we say x is an eigenvector of A with eigenvalue λ if\n",
    "Ax=λx"
   ]
  },
  {
   "cell_type": "code",
   "execution_count": null,
   "metadata": {
    "collapsed": true
   },
   "outputs": [],
   "source": [
    "One important feature of networks is the relative centrality of individuals in them. Centrality is a structural characteristic of individuals in the network, meaning a centrality score tells you something about how that individual fits within the network overall. Individuals with high centrality scores are often more likely to be leaders, key conduits of information, and be more likely to be early adopters of anything that spreads in a network.\n",
    "\n",
    "Eigenvector centrality: It is a measure of the influence of a node in a network. It assigns relative scores to all nodes in the network based on the concept that connections to high-scoring nodes contribute more to the score of the node in question than equal connections to low-scoring nodes.\n",
    "\n",
    "Eigenvector centrality is calculated by assessing how well connected an individual is to the parts of the network with the greatest connectivity. Individuals with high eigenvector scores have many connections, and their connections have many connections, and their connections have many connections … out to the end of the network.\n",
    "\n",
    "High eigenvector centrality individuals are leaders of the network. They are often important members with many connections to other high-profile individuals. Thus, they often play roles of key opinion leaders.\n",
    "\n",
    "python networkx library: eigenvector_centrality: Uses the power method to find the eigenvector for the largest eigenvalue of the adjacency matrix of G."
   ]
  },
  {
   "cell_type": "code",
   "execution_count": null,
   "metadata": {
    "collapsed": true
   },
   "outputs": [],
   "source": [
    "Introduction: The several faces of power\n",
    "All sociologists would agree that power is a fundamental property of social structures. There is much less agreement about what power is, and how we can describe and analyze its causes and consequences. In this chapter we will look at some of the main approaches that social network analysis has developed to study power, and the closely related concept of centrality.\n",
    "\n",
    "Network thinking has contributed a number of important insights about social power. Perhaps most importantly, the network approach emphasizes that power is inherently relational. An individual does not have power in the abstract, they have power because they can dominate others -- ego's power is alter's dependence. Because power is a consequence of patterns of relations, the amount of power in social structures can vary. If a system is very loosely coupled (low density) not much power can be exerted; in high density systems there is the potential for greater power. Power is both a systemic (macro) and relational (micro) property. The amount of power in a system and its distribution across actors are related, but are not the same thing. Two systems can have the same amount of power, but it can be equally distributed in one and unequally distributed in another. Power in social networks may be viewed either as a micro property (i.e. it describes relations between actors) or as a macro property (i.e. one that describes the entire population); as with other key sociological concepts, the macro and micro are closely connected in social network thinking.\n",
    "\n",
    "Network analysts often describe the way that an actor is embedded in a relational network as imposing constraints on the actor, and offering the actor opportunities. Actors that face fewer constraints, and have more opportunities than others are in favorable structural positions. Having a favored position means that an actor may extract better bargains in exchanges, have greater influence, and that the actor will be a focus for deference and attention from those in less favored positions.\n",
    "\n",
    "But, what do we mean by \"having a favored position\" and having \"more opportunities\" and \"fewer constraints?\" There are no single correct and final answers to these difficult questions. But, network analysis has made important contributions in providing precise definitions and concrete measures of several different approaches to the notion of the power that attaches to positions in structures of social relations.\n",
    "\n",
    "To understand the approaches that network analysis uses to study power, it is useful to first think about some very simple systems. Consider the three simple graphs of networks in figures 10.1, 10.2, and 10.3, which are called the \"star,\" \"line,\" and \"circle.\""
   ]
  },
  {
   "cell_type": "code",
   "execution_count": null,
   "metadata": {
    "collapsed": true
   },
   "outputs": [],
   "source": [
    "Katz centrality for the nodes of the graph G.\n",
    "\n",
    "Katz centrality computes the centrality for a node based on the centrality of its neighbors. It is a generalization of the eigenvector centrality. The Katz centrality for node i is\n",
    "\n",
    "x_i = \\alpha \\sum_{j} A_{ij} x_j + \\beta,\n",
    "\n",
    "where A is the adjacency matrix of the graph G with eigenvalues \\lambda."
   ]
  },
  {
   "cell_type": "code",
   "execution_count": 31,
   "metadata": {
    "collapsed": false
   },
   "outputs": [
    {
     "name": "stdout",
     "output_type": "stream",
     "text": [
      "0 0.37\n",
      "1 0.60\n",
      "2 0.60\n",
      "3 0.37\n"
     ]
    }
   ],
   "source": [
    ">>> import math\n",
    ">>> G = nx.path_graph(4)\n",
    ">>> phi = (1+math.sqrt(5))/2.0 # largest eigenvalue of adj matrix\n",
    ">>> centrality = nx.katz_centrality(G,1/phi-0.01)\n",
    ">>> for n,c in sorted(centrality.items()):\n",
    "...    print(\"%d %0.2f\"%(n,c))"
   ]
  },
  {
   "cell_type": "code",
   "execution_count": 26,
   "metadata": {
    "collapsed": false
   },
   "outputs": [
    {
     "data": {
      "text/plain": [
       "[['A'],\n",
       " ['C'],\n",
       " ['B'],\n",
       " ['E'],\n",
       " ['D'],\n",
       " ['G'],\n",
       " ['F'],\n",
       " ['A', 'C'],\n",
       " ['A', 'B'],\n",
       " ['C', 'B'],\n",
       " ['B', 'D'],\n",
       " ['E', 'D'],\n",
       " ['E', 'F'],\n",
       " ['D', 'G'],\n",
       " ['D', 'F'],\n",
       " ['G', 'F'],\n",
       " ['A', 'C', 'B'],\n",
       " ['E', 'D', 'F'],\n",
       " ['D', 'G', 'F']]"
      ]
     },
     "execution_count": 26,
     "metadata": {},
     "output_type": "execute_result"
    }
   ],
   "source": [
    "#Enumeration of all cliques\n",
    "list(nx.enumerate_all_cliques(G1))"
   ]
  },
  {
   "cell_type": "code",
   "execution_count": 27,
   "metadata": {
    "collapsed": false
   },
   "outputs": [
    {
     "name": "stdout",
     "output_type": "stream",
     "text": [
      "{'A': 0.19202593219096176, 'C': 0.19202593219096184, 'B': 0.3404692059708857, 'E': 0.37140739725486294, 'D': 0.560082059639483, 'G': 0.3714073972548628, 'F': 0.46984463338072757}\n"
     ]
    }
   ],
   "source": [
    "q=nx.eigenvector_centrality_numpy(G1, weight='weight')\n",
    "print q"
   ]
  },
  {
   "cell_type": "code",
   "execution_count": 28,
   "metadata": {
    "collapsed": false
   },
   "outputs": [
    {
     "data": {
      "text/plain": [
       "[['A', 'C', 'B']]"
      ]
     },
     "execution_count": 28,
     "metadata": {},
     "output_type": "execute_result"
    }
   ],
   "source": [
    "list(nx.cliques_containing_node(G1,'A'))"
   ]
  },
  {
   "cell_type": "code",
   "execution_count": 29,
   "metadata": {
    "collapsed": false
   },
   "outputs": [
    {
     "data": {
      "text/plain": [
       "[['D', 'B'], ['D', 'F', 'E'], ['D', 'F', 'G']]"
      ]
     },
     "execution_count": 29,
     "metadata": {},
     "output_type": "execute_result"
    }
   ],
   "source": [
    "list(nx.cliques_containing_node(G1,'D'))"
   ]
  },
  {
   "cell_type": "code",
   "execution_count": 26,
   "metadata": {
    "collapsed": false
   },
   "outputs": [
    {
     "data": {
      "image/png": "[encoded data removed]",
      "text/plain": [
       "<matplotlib.figure.Figure at 0x155a5400>"
      ]
     },
     "metadata": {},
     "output_type": "display_data"
    }
   ],
   "source": [
    ">>> G=nx.dodecahedral_graph()\n",
    ">>> nx.draw(G)\n",
    ">>> nx.draw(G,pos=nx.spring_layout(G))"
   ]
  },
  {
   "cell_type": "code",
   "execution_count": 30,
   "metadata": {
    "collapsed": false
   },
   "outputs": [
    {
     "name": "stdout",
     "output_type": "stream",
     "text": [
      "('Largest eigenvalue:', 1.5961894166811375)\n",
      "('Smallest eigenvalue:', 1.5059226780947643e-16)\n"
     ]
    },
    {
     "data": {
      "image/png": "[encoded data removed]",
      "text/plain": [
       "<matplotlib.figure.Figure at 0x4351240>"
      ]
     },
     "metadata": {},
     "output_type": "display_data"
    }
   ],
   "source": [
    "\"\"\"\n",
    "Create an G{n,m} random graph and compute the eigenvalues.\n",
    "Requires numpy and matplotlib.\n",
    "\"\"\"\n",
    "import networkx as nx\n",
    "import numpy.linalg\n",
    "import matplotlib.pyplot as plt\n",
    "\n",
    "n = 1000 # 1000 nodes\n",
    "m = 5000 # 5000 edges\n",
    "G = nx.gnm_random_graph(n,m)\n",
    "\n",
    "L = nx.normalized_laplacian_matrix(G)\n",
    "e = numpy.linalg.eigvals(L.A)\n",
    "print(\"Largest eigenvalue:\", max(e))\n",
    "print(\"Smallest eigenvalue:\", min(e))\n",
    "plt.hist(e,bins=100) # histogram with 100 bins\n",
    "plt.xlim(0,2)  # eigenvalues between 0 and 2\n",
    "plt.show()"
   ]
  },
  {
   "cell_type": "code",
   "execution_count": null,
   "metadata": {
    "collapsed": true
   },
   "outputs": [],
   "source": []
  }
 ],
 "metadata": {
  "kernelspec": {
   "display_name": "Python 2",
   "language": "python",
   "name": "python2"
  },
  "language_info": {
   "codemirror_mode": {
    "name": "ipython",
    "version": 2
   },
   "file_extension": ".py",
   "mimetype": "text/x-python",
   "name": "python",
   "nbconvert_exporter": "python",
   "pygments_lexer": "ipython2",
   "version": "2.7.10"
  }
 },
 "nbformat": 4,
 "nbformat_minor": 0
}
